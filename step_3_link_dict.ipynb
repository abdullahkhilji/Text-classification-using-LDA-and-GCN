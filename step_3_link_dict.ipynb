{
 "cells": [
  {
   "cell_type": "code",
   "execution_count": 1,
   "metadata": {},
   "outputs": [],
   "source": [
    "import pandas as pd\n",
    "import json\n",
    "import pickle"
   ]
  },
  {
   "cell_type": "code",
   "execution_count": 2,
   "metadata": {},
   "outputs": [],
   "source": [
    "select = 'mr'"
   ]
  },
  {
   "cell_type": "code",
   "execution_count": 3,
   "metadata": {},
   "outputs": [],
   "source": [
    "with open('index_dict_files/' + select + '_dict.json') as json_file:\n",
    "    index_dict = json.load(json_file)\n",
    "lda_feat_df = pd.read_csv('tp_data_all/' + select + '_topic_modelled_final_data.csv')"
   ]
  },
  {
   "cell_type": "code",
   "execution_count": 4,
   "metadata": {},
   "outputs": [
    {
     "name": "stdout",
     "output_type": "stream",
     "text": [
      "ind.20ng.BCD.adj  ind.mr.test.y        ind.ohsumed.train.y  ind.R52.val.y\r\n",
      "ind.20ng.test.x   ind.mr.train.x       ind.ohsumed.val.x    ind.R8.BCD.adj\r\n",
      "ind.20ng.test.y   ind.mr.train.y       ind.ohsumed.val.y    ind.R8.test.x\r\n",
      "ind.20ng.train.x  ind.mr.val.x\t       ind.R52.BCD.adj\t    ind.R8.test.y\r\n",
      "ind.20ng.train.y  ind.mr.val.y\t       ind.R52.test.x\t    ind.R8.train.x\r\n",
      "ind.20ng.val.x\t  ind.ohsumed.BCD.adj  ind.R52.test.y\t    ind.R8.train.y\r\n",
      "ind.20ng.val.y\t  ind.ohsumed.test.x   ind.R52.train.x\t    ind.R8.val.x\r\n",
      "ind.mr.BCD.adj\t  ind.ohsumed.test.y   ind.R52.train.y\t    ind.R8.val.y\r\n",
      "ind.mr.test.x\t  ind.ohsumed.train.x  ind.R52.val.x\r\n"
     ]
    }
   ],
   "source": [
    "!ls TextSGC/data/\n"
   ]
  },
  {
   "cell_type": "code",
   "execution_count": 5,
   "metadata": {},
   "outputs": [],
   "source": [
    "train_pkl = 'TextSGC/data/' + 'ind.' + select + '.train.x'\n",
    "test_pkl = 'TextSGC/data/' + 'ind.' + select + '.test.x'\n",
    "val_pkl = 'TextSGC/data/' + 'ind.' + select + '.val.x'\n",
    "with open(train_pkl, 'rb') as f:\n",
    "    x_train = pickle.load(f)\n",
    "with open(test_pkl, 'rb') as f:\n",
    "    x_test = pickle.load(f)\n",
    "with open(val_pkl, 'rb') as f:\n",
    "    x_val = pickle.load(f)"
   ]
  },
  {
   "cell_type": "code",
   "execution_count": 6,
   "metadata": {},
   "outputs": [
    {
     "data": {
      "text/plain": [
       "'6281'"
      ]
     },
     "execution_count": 6,
     "metadata": {},
     "output_type": "execute_result"
    }
   ],
   "source": [
    "index_dict[str(x_val[0])]"
   ]
  },
  {
   "cell_type": "code",
   "execution_count": 7,
   "metadata": {
    "scrolled": false
   },
   "outputs": [
    {
     "data": {
      "text/html": [
       "<div>\n",
       "<style scoped>\n",
       "    .dataframe tbody tr th:only-of-type {\n",
       "        vertical-align: middle;\n",
       "    }\n",
       "\n",
       "    .dataframe tbody tr th {\n",
       "        vertical-align: top;\n",
       "    }\n",
       "\n",
       "    .dataframe thead th {\n",
       "        text-align: right;\n",
       "    }\n",
       "</style>\n",
       "<table border=\"1\" class=\"dataframe\">\n",
       "  <thead>\n",
       "    <tr style=\"text-align: right;\">\n",
       "      <th></th>\n",
       "      <th>content</th>\n",
       "      <th>labels</th>\n",
       "      <th>0</th>\n",
       "      <th>1</th>\n",
       "    </tr>\n",
       "  </thead>\n",
       "  <tbody>\n",
       "    <tr>\n",
       "      <td>0</td>\n",
       "      <td>moore like progressive bull china shop provoca...</td>\n",
       "      <td>1.0</td>\n",
       "      <td>0.459038</td>\n",
       "      <td>0.540962</td>\n",
       "    </tr>\n",
       "    <tr>\n",
       "      <td>1</td>\n",
       "      <td>idiotic ugly</td>\n",
       "      <td>1.0</td>\n",
       "      <td>0.454833</td>\n",
       "      <td>0.545167</td>\n",
       "    </tr>\n",
       "    <tr>\n",
       "      <td>2</td>\n",
       "      <td>even naipaul original remains real masterpiece...</td>\n",
       "      <td>1.0</td>\n",
       "      <td>0.455154</td>\n",
       "      <td>0.544845</td>\n",
       "    </tr>\n",
       "    <tr>\n",
       "      <td>3</td>\n",
       "      <td>movie amateurish minor treat</td>\n",
       "      <td>1.0</td>\n",
       "      <td>0.453744</td>\n",
       "      <td>0.546256</td>\n",
       "    </tr>\n",
       "    <tr>\n",
       "      <td>4</td>\n",
       "      <td>people march beat different drum ever wondered...</td>\n",
       "      <td>1.0</td>\n",
       "      <td>0.448321</td>\n",
       "      <td>0.551679</td>\n",
       "    </tr>\n",
       "    <tr>\n",
       "      <td>...</td>\n",
       "      <td>...</td>\n",
       "      <td>...</td>\n",
       "      <td>...</td>\n",
       "      <td>...</td>\n",
       "    </tr>\n",
       "    <tr>\n",
       "      <td>10658</td>\n",
       "      <td>devolves derivative leaning badly rendered cgi...</td>\n",
       "      <td>0.0</td>\n",
       "      <td>0.453609</td>\n",
       "      <td>0.546391</td>\n",
       "    </tr>\n",
       "    <tr>\n",
       "      <td>10659</td>\n",
       "      <td>ugly duckling tale hideously clumsily told fee...</td>\n",
       "      <td>0.0</td>\n",
       "      <td>0.456115</td>\n",
       "      <td>0.543885</td>\n",
       "    </tr>\n",
       "    <tr>\n",
       "      <td>10660</td>\n",
       "      <td>unspeakable course barely begins describe plot...</td>\n",
       "      <td>0.0</td>\n",
       "      <td>0.455110</td>\n",
       "      <td>0.544890</td>\n",
       "    </tr>\n",
       "    <tr>\n",
       "      <td>10661</td>\n",
       "      <td>least moore real charmer</td>\n",
       "      <td>0.0</td>\n",
       "      <td>0.455532</td>\n",
       "      <td>0.544469</td>\n",
       "    </tr>\n",
       "    <tr>\n",
       "      <td>10662</td>\n",
       "      <td>NaN</td>\n",
       "      <td>NaN</td>\n",
       "      <td>NaN</td>\n",
       "      <td>NaN</td>\n",
       "    </tr>\n",
       "  </tbody>\n",
       "</table>\n",
       "<p>10663 rows × 4 columns</p>\n",
       "</div>"
      ],
      "text/plain": [
       "                                                 content  labels         0  \\\n",
       "0      moore like progressive bull china shop provoca...     1.0  0.459038   \n",
       "1                                           idiotic ugly     1.0  0.454833   \n",
       "2      even naipaul original remains real masterpiece...     1.0  0.455154   \n",
       "3                           movie amateurish minor treat     1.0  0.453744   \n",
       "4      people march beat different drum ever wondered...     1.0  0.448321   \n",
       "...                                                  ...     ...       ...   \n",
       "10658  devolves derivative leaning badly rendered cgi...     0.0  0.453609   \n",
       "10659  ugly duckling tale hideously clumsily told fee...     0.0  0.456115   \n",
       "10660  unspeakable course barely begins describe plot...     0.0  0.455110   \n",
       "10661                           least moore real charmer     0.0  0.455532   \n",
       "10662                                                NaN     NaN       NaN   \n",
       "\n",
       "              1  \n",
       "0      0.540962  \n",
       "1      0.545167  \n",
       "2      0.544845  \n",
       "3      0.546256  \n",
       "4      0.551679  \n",
       "...         ...  \n",
       "10658  0.546391  \n",
       "10659  0.543885  \n",
       "10660  0.544890  \n",
       "10661  0.544469  \n",
       "10662       NaN  \n",
       "\n",
       "[10663 rows x 4 columns]"
      ]
     },
     "execution_count": 7,
     "metadata": {},
     "output_type": "execute_result"
    }
   ],
   "source": [
    "lda_feat_df"
   ]
  },
  {
   "cell_type": "code",
   "execution_count": null,
   "metadata": {},
   "outputs": [],
   "source": []
  },
  {
   "cell_type": "code",
   "execution_count": null,
   "metadata": {},
   "outputs": [],
   "source": []
  },
  {
   "cell_type": "code",
   "execution_count": 8,
   "metadata": {},
   "outputs": [],
   "source": [
    "# For R8, R52 and MR\n",
    "train_feat = []\n",
    "test_feat = []\n",
    "val_feat = []\n",
    "for i in x_train:\n",
    "    x = int(index_dict[str(i)])\n",
    "    train_feat.append(list(lda_feat_df.iloc[x][2:]))\n",
    "for i in x_test:\n",
    "    x = int(index_dict[str(i)])\n",
    "    test_feat.append(list(lda_feat_df.iloc[x][2:]))\n",
    "for i in x_val:\n",
    "    x = int(index_dict[str(i)])\n",
    "    val_feat.append(list(lda_feat_df.iloc[x][2:]))"
   ]
  },
  {
   "cell_type": "code",
   "execution_count": 9,
   "metadata": {},
   "outputs": [
    {
     "data": {
      "text/plain": [
       "\"\\ntrain_feat = []\\ntest_feat = []\\nval_feat = []\\nfor i in x_train:\\n    x = int(index_dict[str(i)])\\n    y = lda_feat_df.loc[(lda_feat_df['0'] == x)].values[0][3:].tolist()\\n    train_feat.append(y)\\nfor i in x_test:\\n    x = int(index_dict[str(i)])\\n    y = lda_feat_df.loc[(lda_feat_df['0'] == x)].values[0][3:].tolist()\\n    test_feat.append(y)\\nfor i in x_val:\\n    x = int(index_dict[str(i)])\\n    y = lda_feat_df.loc[(lda_feat_df['0'] == x)].values[0][3:].tolist()\\n    val_feat.append(y)\\n\""
      ]
     },
     "execution_count": 9,
     "metadata": {},
     "output_type": "execute_result"
    }
   ],
   "source": [
    "# For ohsumed and mr\n",
    "\"\"\"\n",
    "train_feat = []\n",
    "test_feat = []\n",
    "val_feat = []\n",
    "for i in x_train:\n",
    "    x = int(index_dict[str(i)])\n",
    "    y = lda_feat_df.loc[(lda_feat_df['0'] == x)].values[0][3:].tolist()\n",
    "    train_feat.append(y)\n",
    "for i in x_test:\n",
    "    x = int(index_dict[str(i)])\n",
    "    y = lda_feat_df.loc[(lda_feat_df['0'] == x)].values[0][3:].tolist()\n",
    "    test_feat.append(y)\n",
    "for i in x_val:\n",
    "    x = int(index_dict[str(i)])\n",
    "    y = lda_feat_df.loc[(lda_feat_df['0'] == x)].values[0][3:].tolist()\n",
    "    val_feat.append(y)\n",
    "\"\"\""
   ]
  },
  {
   "cell_type": "code",
   "execution_count": 10,
   "metadata": {},
   "outputs": [],
   "source": [
    "link_dict = {'train': train_feat, 'test': test_feat, 'val': val_feat}"
   ]
  },
  {
   "cell_type": "code",
   "execution_count": 11,
   "metadata": {},
   "outputs": [],
   "source": [
    "with open('link_dict_files/' + select + '_link.json', 'w') as outfile:\n",
    "    json.dump(link_dict, outfile)"
   ]
  },
  {
   "cell_type": "code",
   "execution_count": null,
   "metadata": {},
   "outputs": [],
   "source": []
  },
  {
   "cell_type": "code",
   "execution_count": null,
   "metadata": {},
   "outputs": [],
   "source": []
  }
 ],
 "metadata": {
  "kernelspec": {
   "display_name": "Python 3",
   "language": "python",
   "name": "python3"
  },
  "language_info": {
   "codemirror_mode": {
    "name": "ipython",
    "version": 3
   },
   "file_extension": ".py",
   "mimetype": "text/x-python",
   "name": "python",
   "nbconvert_exporter": "python",
   "pygments_lexer": "ipython3",
   "version": "3.7.3"
  }
 },
 "nbformat": 4,
 "nbformat_minor": 2
}
