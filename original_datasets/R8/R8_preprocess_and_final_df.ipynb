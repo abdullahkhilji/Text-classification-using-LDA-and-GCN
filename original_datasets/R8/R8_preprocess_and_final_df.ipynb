{
 "cells": [
  {
   "cell_type": "code",
   "execution_count": 1,
   "metadata": {},
   "outputs": [],
   "source": [
    "import os\n",
    "import re\n",
    "import codecs\n",
    "import numpy as np\n",
    "import pandas as pd\n",
    "from nltk.corpus import stopwords"
   ]
  },
  {
   "cell_type": "code",
   "execution_count": 2,
   "metadata": {},
   "outputs": [],
   "source": [
    "df = pd.read_csv('df_R8_test.csv')"
   ]
  },
  {
   "cell_type": "code",
   "execution_count": 3,
   "metadata": {},
   "outputs": [],
   "source": [
    "# uncomment to debug\n",
    "# df = df[:5]"
   ]
  },
  {
   "cell_type": "code",
   "execution_count": 4,
   "metadata": {},
   "outputs": [],
   "source": [
    "all_data = []\n",
    "\n",
    "for i in range(len(df)):\n",
    "    raw_data = df.iloc[i][0]\n",
    "    preprocessed_data = re.sub('[^a-zA-Z]', ' ', raw_data).lower()\n",
    "    preprocessed_data = preprocessed_data.split()\n",
    "    preprocessed_data = [word for word in preprocessed_data if word not in stopwords.words('english')]\n",
    "    preprocessed_data = ' '.join(preprocessed_data)\n",
    "    all_data.append([preprocessed_data, df.iloc[i][1]])"
   ]
  },
  {
   "cell_type": "code",
   "execution_count": 5,
   "metadata": {},
   "outputs": [
    {
     "name": "stdout",
     "output_type": "stream",
     "text": [
      "===========DataFrame-Complete===========\n"
     ]
    }
   ],
   "source": [
    "all_data = np.asarray(all_data)\n",
    "df = pd.DataFrame(all_data)\n",
    "print(\"===========DataFrame-Complete===========\")\n",
    "\n",
    "df.to_csv('pre_processed_R8_test' + '.csv', index=False)"
   ]
  },
  {
   "cell_type": "code",
   "execution_count": null,
   "metadata": {},
   "outputs": [],
   "source": []
  }
 ],
 "metadata": {
  "kernelspec": {
   "display_name": "Python 3",
   "language": "python",
   "name": "python3"
  },
  "language_info": {
   "codemirror_mode": {
    "name": "ipython",
    "version": 3
   },
   "file_extension": ".py",
   "mimetype": "text/x-python",
   "name": "python",
   "nbconvert_exporter": "python",
   "pygments_lexer": "ipython3",
   "version": "3.7.3"
  }
 },
 "nbformat": 4,
 "nbformat_minor": 2
}
