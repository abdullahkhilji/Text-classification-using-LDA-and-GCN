{
 "cells": [
  {
   "cell_type": "code",
   "execution_count": 1,
   "metadata": {},
   "outputs": [],
   "source": [
    "import os\n",
    "import re\n",
    "import codecs\n",
    "import numpy as np\n",
    "import pandas as pd\n",
    "from nltk.corpus import stopwords"
   ]
  },
  {
   "cell_type": "code",
   "execution_count": 2,
   "metadata": {},
   "outputs": [],
   "source": [
    "f_data = open('text_test.txt', \"r\", encoding='latin-1')\n",
    "f_labels = open('label_test.txt', \"r\", encoding='latin-1')"
   ]
  },
  {
   "cell_type": "code",
   "execution_count": 3,
   "metadata": {},
   "outputs": [],
   "source": [
    "raw_data = f_data.read()\n",
    "labels = f_labels.read()"
   ]
  },
  {
   "cell_type": "code",
   "execution_count": 4,
   "metadata": {},
   "outputs": [],
   "source": [
    "raw_data_splitted = raw_data.split('\\n')\n",
    "labels_splitted = labels.split('\\n')"
   ]
  },
  {
   "cell_type": "code",
   "execution_count": 5,
   "metadata": {},
   "outputs": [],
   "source": [
    "# uncomment to debug\n",
    "# raw_data_splitted = raw_data_splitted[:5]\n",
    "# labels_splitted = labels_splitted[:5]"
   ]
  },
  {
   "cell_type": "code",
   "execution_count": 6,
   "metadata": {},
   "outputs": [
    {
     "name": "stdout",
     "output_type": "stream",
     "text": [
      "===========DataFrame-Complete===========\n"
     ]
    }
   ],
   "source": [
    "all_data = []\n",
    "for i in range(len(raw_data_splitted)):\n",
    "        preprocessed_data = re.sub('[^a-zA-Z]', ' ', raw_data_splitted[i]).lower()\n",
    "        preprocessed_data = preprocessed_data.split()\n",
    "        preprocessed_data = [word for word in preprocessed_data if word not in stopwords.words('english')]\n",
    "        preprocessed_data = ' '.join(preprocessed_data)\n",
    "        all_data.append([preprocessed_data, labels_splitted[i]])\n",
    "\n",
    "all_data = np.asarray(all_data)\n",
    "df = pd.DataFrame(all_data)\n",
    "print(\"===========DataFrame-Complete===========\")\n",
    "\n",
    "df.to_csv('mr_test' + '.csv', index=False)"
   ]
  },
  {
   "cell_type": "code",
   "execution_count": null,
   "metadata": {},
   "outputs": [],
   "source": []
  }
 ],
 "metadata": {
  "kernelspec": {
   "display_name": "Python 3",
   "language": "python",
   "name": "python3"
  },
  "language_info": {
   "codemirror_mode": {
    "name": "ipython",
    "version": 3
   },
   "file_extension": ".py",
   "mimetype": "text/x-python",
   "name": "python",
   "nbconvert_exporter": "python",
   "pygments_lexer": "ipython3",
   "version": "3.7.3"
  }
 },
 "nbformat": 4,
 "nbformat_minor": 2
}
